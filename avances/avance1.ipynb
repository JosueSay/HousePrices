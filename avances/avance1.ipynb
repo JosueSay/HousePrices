{
 "cells": [
  {
   "cell_type": "markdown",
   "metadata": {},
   "source": [
    "# Informe 1\n",
    "\n",
    "**InmoValor S.A.** es una empresa innovadora en el sector inmobiliario que utiliza técnicas avanzadas de análisis y modelos de regresión para estimar el valor de los inmuebles. La compañía recopila y analiza un amplio conjunto de datos con información detallada sobre viviendas, con el objetivo de desarrollar modelos predictivos que permitan proyectar con precisión el precio de los inmuebles.\n",
    "\n",
    "Cada semana, se generan y entregan resultados basados en la aplicación de algoritmos de predicción y/o clasificación. El objetivo final es determinar el mejor algoritmo predictivo para estimar con mayor exactitud el valor de una vivienda."
   ]
  },
  {
   "cell_type": "markdown",
   "metadata": {},
   "source": [
    "## Descarga y Carga de Datos\n",
    "Utilizando los datos de [Kaggle](https://www.kaggle.com/c/house-prices-advanced-regression-techniques/data) se puede utilizar el dataset `train.csv` para mostrar una vista previa del dataset como número de filas, columnas, tipos de datos y valores nulos."
   ]
  },
  {
   "cell_type": "markdown",
   "metadata": {},
   "source": [
    "### Importar Librerias\n",
    "\n",
    "Se utilizará las librerias:\n"
   ]
  },
  {
   "cell_type": "code",
   "execution_count": 2,
   "metadata": {},
   "outputs": [],
   "source": [
    "import pandas as pd\n",
    "import numpy as np\n",
    "import matplotlib.pyplot as plt\n",
    "import seaborn as sns"
   ]
  },
  {
   "cell_type": "markdown",
   "metadata": {},
   "source": [
    "### Exploración de Datos"
   ]
  },
  {
   "cell_type": "code",
   "execution_count": 3,
   "metadata": {},
   "outputs": [
    {
     "name": "stdout",
     "output_type": "stream",
     "text": [
      "   Id  MSSubClass MSZoning  LotFrontage  LotArea Street Alley LotShape  \\\n",
      "0   1          60       RL         65.0     8450   Pave   NaN      Reg   \n",
      "1   2          20       RL         80.0     9600   Pave   NaN      Reg   \n",
      "2   3          60       RL         68.0    11250   Pave   NaN      IR1   \n",
      "3   4          70       RL         60.0     9550   Pave   NaN      IR1   \n",
      "4   5          60       RL         84.0    14260   Pave   NaN      IR1   \n",
      "\n",
      "  LandContour Utilities  ... PoolArea PoolQC Fence MiscFeature MiscVal MoSold  \\\n",
      "0         Lvl    AllPub  ...        0    NaN   NaN         NaN       0      2   \n",
      "1         Lvl    AllPub  ...        0    NaN   NaN         NaN       0      5   \n",
      "2         Lvl    AllPub  ...        0    NaN   NaN         NaN       0      9   \n",
      "3         Lvl    AllPub  ...        0    NaN   NaN         NaN       0      2   \n",
      "4         Lvl    AllPub  ...        0    NaN   NaN         NaN       0     12   \n",
      "\n",
      "  YrSold  SaleType  SaleCondition  SalePrice  \n",
      "0   2008        WD         Normal     208500  \n",
      "1   2007        WD         Normal     181500  \n",
      "2   2008        WD         Normal     223500  \n",
      "3   2006        WD        Abnorml     140000  \n",
      "4   2008        WD         Normal     250000  \n",
      "\n",
      "[5 rows x 81 columns]\n"
     ]
    }
   ],
   "source": [
    "file_path = \"../data/train.csv\"\n",
    "data = pd.read_csv(file_path)\n",
    "print(data.head())"
   ]
  },
  {
   "cell_type": "code",
   "execution_count": 4,
   "metadata": {},
   "outputs": [
    {
     "name": "stdout",
     "output_type": "stream",
     "text": [
      "El dataset contiene 1460 filas y 81 columnas.\n"
     ]
    }
   ],
   "source": [
    "print(f\"El dataset contiene {data.shape[0]} filas y {data.shape[1]} columnas.\")"
   ]
  },
  {
   "cell_type": "code",
   "execution_count": 5,
   "metadata": {},
   "outputs": [
    {
     "name": "stdout",
     "output_type": "stream",
     "text": [
      "Archivo 'namecolumns.txt' generado correctamente.\n"
     ]
    }
   ],
   "source": [
    "# Guarda el número, nombre y tipo de dato de la columna de un csv\n",
    "def saveColumnInfo(data, fileSave):\n",
    "  with open(fileSave, \"w\") as f:\n",
    "    for i, (col, dtype) in enumerate(data.dtypes.items(), start=1):\n",
    "      f.write(f\"{i}, {col}, {dtype}\\n\")\n",
    "\n",
    "  print(\"Archivo 'namecolumns.txt' generado correctamente.\")\n",
    "  \n",
    "saveColumnInfo(data=data, fileSave=\"columns_info.txt\")"
   ]
  },
  {
   "cell_type": "markdown",
   "metadata": {},
   "source": [
    "### Tipos de Datos\n",
    "\n",
    "Existen 1460 filas y 81 columnas en el dataset y los tipos de datos se describen a continuación.\n",
    "\n",
    "| Número | Nombre de la Columna | Significado | Tipo de Dato |\n",
    "|--------|----------------------|-------------|-------------|\n",
    "| 1 | MSSubClass | Clase del edificio | int64 |\n",
    "| 2 | MSZoning | Clasificación de zonificación | object |\n",
    "| 3 | LotFrontage | Pies lineales de calle conectados a la propiedad | float64 |\n",
    "| 4 | LotArea | Tamaño del terreno en pies cuadrados | int64 |\n",
    "| 5 | Street | Tipo de acceso a la calle | object |\n",
    "| 6 | Alley | Tipo de acceso al callejón | object |\n",
    "| 7 | LotShape | Forma general de la propiedad | object |\n",
    "| 8 | LandContour | Nivelación del terreno | object |\n",
    "| 9 | Utilities | Tipo de servicios disponibles | object |\n",
    "| 10 | LotConfig | Configuración del terreno | object |\n",
    "| 11 | LandSlope | Pendiente del terreno | object |\n",
    "| 12 | Neighborhood | Ubicación dentro de los límites de Ames | object |\n",
    "| 13 | Condition1 | Proximidad a carreteras o ferrocarriles | object |\n",
    "| 14 | Condition2 | Proximidad a una segunda carretera o ferrocarril | object |\n",
    "| 15 | BldgType | Tipo de vivienda | object |\n",
    "| 16 | HouseStyle | Estilo de la vivienda | object |\n",
    "| 17 | OverallQual | Calidad general de materiales y acabados | int64 |\n",
    "| 18 | OverallCond | Calificación de la condición general | int64 |\n",
    "| 19 | YearBuilt | Año de construcción original | int64 |\n",
    "| 20 | YearRemodAdd | Año de remodelación | int64 |\n",
    "| 21 | RoofStyle | Tipo de techo | object |\n",
    "| 22 | RoofMatl | Material del techo | object |\n",
    "| 23 | Exterior1st | Revestimiento exterior de la casa | object |\n",
    "| 24 | Exterior2nd | Segundo revestimiento exterior (si aplica) | object |\n",
    "| 25 | MasVnrType | Tipo de revestimiento de mampostería | object |\n",
    "| 26 | MasVnrArea | Área de revestimiento de mampostería en pies cuadrados | float64 |\n",
    "| 27 | ExterQual | Calidad del material exterior | object |\n",
    "| 28 | ExterCond | Estado actual del material exterior | object |\n",
    "| 29 | Foundation | Tipo de cimentación | object |\n",
    "| 30 | BsmtQual | Altura del sótano | object |\n",
    "| 31 | BsmtCond | Condición general del sótano | object |\n",
    "| 32 | BsmtExposure | Exposición del sótano (nivel jardín o salida) | object |\n",
    "| 33 | BsmtFinType1 | Calidad del área terminada del sótano | object |\n",
    "| 34 | BsmtFinSF1 | Pies cuadrados de área terminada tipo 1 en el sótano | int64 |\n",
    "| 35 | BsmtFinType2 | Calidad de la segunda área terminada del sótano | object |\n",
    "| 36 | BsmtFinSF2 | Pies cuadrados de área terminada tipo 2 en el sótano | int64 |\n",
    "| 37 | BsmtUnfSF | Pies cuadrados sin terminar del sótano | int64 |\n",
    "| 38 | TotalBsmtSF | Pies cuadrados totales del sótano | int64 |\n",
    "| 39 | Heating | Tipo de calefacción | object |\n",
    "| 40 | HeatingQC | Calidad y condición de la calefacción | object |\n",
    "| 41 | CentralAir | Aire acondicionado central | object |\n",
    "| 42 | Electrical | Sistema eléctrico | object |\n",
    "| 43 | 1stFlrSF | Pies cuadrados del primer piso | int64 |\n",
    "| 44 | 2ndFlrSF | Pies cuadrados del segundo piso | int64 |\n",
    "| 45 | LowQualFinSF | Pies cuadrados de acabado de baja calidad | int64 |\n",
    "| 46 | GrLivArea | Pies cuadrados de área habitable sobre el suelo | int64 |\n",
    "| 47 | BsmtFullBath | Número de baños completos en el sótano | int64 |\n",
    "| 48 | BsmtHalfBath | Número de medios baños en el sótano | int64 |\n",
    "| 49 | FullBath | Número de baños completos sobre el nivel del suelo | int64 |\n",
    "| 50 | HalfBath | Número de medios baños sobre el nivel del suelo | int64 |\n",
    "| 51 | BedroomAbvGr | Número de habitaciones sobre el sótano | int64 |\n",
    "| 52 | KitchenAbvGr | Número de cocinas | int64 |\n",
    "| 53 | KitchenQual | Calidad de la cocina | object |\n",
    "| 54 | TotRmsAbvGrd | Total de habitaciones sobre el nivel del suelo (sin incluir baños) | int64 |\n",
    "| 55 | Functional | Clasificación de funcionalidad de la casa | object |\n",
    "| 56 | Fireplaces | Número de chimeneas | int64 |\n",
    "| 57 | FireplaceQu | Calidad de la chimenea | object |\n",
    "| 58 | GarageType | Ubicación del garaje | object |\n",
    "| 59 | GarageYrBlt | Año de construcción del garaje | float64 |\n",
    "| 60 | GarageFinish | Acabado interior del garaje | object |\n",
    "| 61 | GarageCars | Tamaño del garaje en capacidad de autos | int64 |\n",
    "| 62 | GarageArea | Tamaño del garaje en pies cuadrados | int64 |\n",
    "| 63 | GarageQual | Calidad del garaje | object |\n",
    "| 64 | GarageCond | Condición del garaje | object |\n",
    "| 65 | PavedDrive | Entrada pavimentada | object |\n",
    "| 66 | WoodDeckSF | Área de terraza de madera en pies cuadrados | int64 |\n",
    "| 67 | OpenPorchSF | Área del porche abierto en pies cuadrados | int64 |\n",
    "| 68 | EnclosedPorch | Área del porche cerrado en pies cuadrados | int64 |\n",
    "| 69 | 3SsnPorch | Área del porche de tres estaciones en pies cuadrados | int64 |\n",
    "| 70 | ScreenPorch | Área del porche con mosquitero en pies cuadrados | int64 |\n",
    "| 71 | PoolArea | Área de la piscina en pies cuadrados | int64 |\n",
    "| 72 | PoolQC | Calidad de la piscina | object |\n",
    "| 73 | Fence | Calidad de la cerca | object |\n",
    "| 74 | MiscFeature | Característica miscelánea no cubierta en otras categorías | object |\n",
    "| 75 | MiscVal | Valor en dólares de la característica miscelánea | int64 |\n",
    "| 76 | MoSold | Mes de venta | int64 |\n",
    "| 77 | YrSold | Año de venta | int64 |\n",
    "| 78 | SaleType | Tipo de venta | object |\n",
    "| 79 | SaleCondition | Condición de venta | object |\n",
    "| 80 | SalePrice | Precio de venta de la propiedad en dólares | int64 |\n",
    "\n",
    "> **Nota:** Se omite la columna ID que identifica cada registro y no es relevante en la información del dataset."
   ]
  },
  {
   "cell_type": "code",
   "execution_count": null,
   "metadata": {},
   "outputs": [],
   "source": []
  },
  {
   "cell_type": "code",
   "execution_count": null,
   "metadata": {},
   "outputs": [],
   "source": []
  },
  {
   "cell_type": "code",
   "execution_count": null,
   "metadata": {},
   "outputs": [],
   "source": []
  },
  {
   "cell_type": "code",
   "execution_count": null,
   "metadata": {},
   "outputs": [],
   "source": []
  },
  {
   "cell_type": "code",
   "execution_count": null,
   "metadata": {},
   "outputs": [],
   "source": []
  },
  {
   "cell_type": "code",
   "execution_count": null,
   "metadata": {},
   "outputs": [],
   "source": []
  }
 ],
 "metadata": {
  "kernelspec": {
   "display_name": ".venv",
   "language": "python",
   "name": "python3"
  },
  "language_info": {
   "codemirror_mode": {
    "name": "ipython",
    "version": 3
   },
   "file_extension": ".py",
   "mimetype": "text/x-python",
   "name": "python",
   "nbconvert_exporter": "python",
   "pygments_lexer": "ipython3",
   "version": "3.12.3"
  }
 },
 "nbformat": 4,
 "nbformat_minor": 2
}
